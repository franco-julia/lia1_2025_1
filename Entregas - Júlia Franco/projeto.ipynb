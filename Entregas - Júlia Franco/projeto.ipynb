{
 "cells": [
  {
   "cell_type": "code",
   "execution_count": 3,
   "id": "f7095d52",
   "metadata": {},
   "outputs": [],
   "source": [
    "from dotenv import load_dotenv\n",
    "import os\n",
    "import google.generativeai as genai"
   ]
  },
  {
   "cell_type": "code",
   "execution_count": 4,
   "id": "699bb889",
   "metadata": {},
   "outputs": [],
   "source": [
    "load_dotenv()\n",
    "genai.configure(api_key=os.getenv(\"GOOGLE_API_KEY\"))"
   ]
  },
  {
   "cell_type": "code",
   "execution_count": 11,
   "id": "7c670650",
   "metadata": {},
   "outputs": [],
   "source": [
    "def gerar_questao_quimica_1ano(tema, tipo=\"múltipla escolha\", dificuldade=\"média\"):\n",
    "    prompt = f\"\"\"\n",
    "    Você é um gerador de questões de Química no estilo ENEM.\n",
    "\n",
    "    Crie uma questão do tipo {tipo}, com nível de dificuldade {dificuldade}, sobre o tema \"{tema}\".\n",
    "    A questão deve conter:\n",
    "    - Enunciado com um texto de contextualização\n",
    "    - Cinco alternativas (A, B, C, D, E)\n",
    "    - Indicação da alternativa correta com a letra e o texto\n",
    "    - Gabarito separado no final\n",
    "\n",
    "    Formate da seguinte forma:\n",
    "    Pergunta: [enunciado]\n",
    "    A) [alternativa A]\n",
    "    B) [alternativa B]\n",
    "    C) [alternativa C]\n",
    "    D) [alternativa D]\n",
    "    E) [alternativa E]\n",
    "    Resposta correta: Letra X - [texto da resposta]\n",
    "    \"\"\"\n",
    "\n",
    "    model = genai.GenerativeModel(\"models/gemini-1.5-flash\")\n",
    "    response = model.generate_content(prompt)\n",
    "    return response.text.strip()"
   ]
  },
  {
   "cell_type": "code",
   "execution_count": 12,
   "id": "cf00e8b5",
   "metadata": {},
   "outputs": [
    {
     "name": "stdout",
     "output_type": "stream",
     "text": [
      "Pergunta: A produção de materiais cerâmicos avançados para aplicações biomédicas requer um profundo conhecimento das ligações químicas envolvidas.  Um exemplo é a zircônia (ZrO₂), um material biocompatível amplamente utilizado em implantes dentários e ortopédicos.  A zircônia apresenta alta resistência mecânica e dureza, propriedades atribuídas, em parte, ao tipo de ligação química predominante em sua estrutura cristalina. Considerando a diferença de eletronegatividade entre o zircônio (Zr) e o oxigênio (O), qual o tipo de ligação química predominante na zircônia e qual a justificativa para sua alta resistência mecânica?\n",
      "\n",
      "\n",
      "A) Ligação metálica, devido à grande diferença de eletronegatividade entre Zr e O, resultando em um mar de elétrons deslocalizados que conferem alta resistência.\n",
      "B) Ligação covalente apolar, devido à pequena diferença de eletronegatividade entre Zr e O, resultando em compartilhamento igualitário de elétrons e forte ligação entre os átomos.\n",
      "C) Ligação iônica, devido à grande diferença de eletronegatividade entre Zr e O, resultando em transferência de elétrons e forte atração eletrostática entre íons.\n",
      "D) Ligação covalente polar, devido à diferença de eletronegatividade entre Zr e O, resultando em compartilhamento desigual de elétrons, mas com forte ligação entre os átomos.\n",
      "E) Ligação de hidrogênio, devido à presença de átomos de oxigênio, resultando em ligações intermoleculares fortes que contribuem para a resistência.\n",
      "\n",
      "\n",
      "Resposta correta: Letra C - A grande diferença de eletronegatividade entre o zircônio (um metal) e o oxigênio (um não-metal) leva à formação de uma ligação iônica predominante na zircônia.  Nesse tipo de ligação, o oxigênio, mais eletronegativo, atrai os elétrons de valência do zircônio, formando íons O²⁻ e Zr⁴⁺. A forte atração eletrostática entre esses íons opostos é responsável pela alta resistência mecânica do material.\n",
      "\n",
      "\n",
      "Gabarito: C\n"
     ]
    }
   ],
   "source": [
    "tema = \"Ligações químicas\"\n",
    "questao = gerar_questao_quimica_1ano(tema)\n",
    "print(questao)\n"
   ]
  }
 ],
 "metadata": {
  "kernelspec": {
   "display_name": ".venv",
   "language": "python",
   "name": "python3"
  },
  "language_info": {
   "codemirror_mode": {
    "name": "ipython",
    "version": 3
   },
   "file_extension": ".py",
   "mimetype": "text/x-python",
   "name": "python",
   "nbconvert_exporter": "python",
   "pygments_lexer": "ipython3",
   "version": "3.11.9"
  }
 },
 "nbformat": 4,
 "nbformat_minor": 5
}
